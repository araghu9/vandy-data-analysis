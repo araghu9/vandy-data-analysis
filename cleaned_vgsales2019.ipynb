{
 "cells": [
  {
   "cell_type": "code",
   "execution_count": 1,
   "metadata": {},
   "outputs": [
    {
     "data": {
      "text/html": [
       "<div>\n",
       "<style scoped>\n",
       "    .dataframe tbody tr th:only-of-type {\n",
       "        vertical-align: middle;\n",
       "    }\n",
       "\n",
       "    .dataframe tbody tr th {\n",
       "        vertical-align: top;\n",
       "    }\n",
       "\n",
       "    .dataframe thead th {\n",
       "        text-align: right;\n",
       "    }\n",
       "</style>\n",
       "<table border=\"1\" class=\"dataframe\">\n",
       "  <thead>\n",
       "    <tr style=\"text-align: right;\">\n",
       "      <th></th>\n",
       "      <th>Rank</th>\n",
       "      <th>Genre</th>\n",
       "      <th>ESRB_Rating</th>\n",
       "      <th>Platform</th>\n",
       "      <th>Publisher</th>\n",
       "      <th>Developer</th>\n",
       "      <th>Critic_Score</th>\n",
       "      <th>User_Score</th>\n",
       "      <th>Total_Shipped</th>\n",
       "      <th>Global_Sales</th>\n",
       "      <th>NA_Sales</th>\n",
       "      <th>PAL_Sales</th>\n",
       "      <th>JP_Sales</th>\n",
       "      <th>Other_Sales</th>\n",
       "      <th>Year</th>\n",
       "    </tr>\n",
       "    <tr>\n",
       "      <th>Name</th>\n",
       "      <th></th>\n",
       "      <th></th>\n",
       "      <th></th>\n",
       "      <th></th>\n",
       "      <th></th>\n",
       "      <th></th>\n",
       "      <th></th>\n",
       "      <th></th>\n",
       "      <th></th>\n",
       "      <th></th>\n",
       "      <th></th>\n",
       "      <th></th>\n",
       "      <th></th>\n",
       "      <th></th>\n",
       "      <th></th>\n",
       "    </tr>\n",
       "  </thead>\n",
       "  <tbody>\n",
       "    <tr>\n",
       "      <td>Wii Sports</td>\n",
       "      <td>1</td>\n",
       "      <td>Sports</td>\n",
       "      <td>E</td>\n",
       "      <td>Wii</td>\n",
       "      <td>Nintendo</td>\n",
       "      <td>Nintendo EAD</td>\n",
       "      <td>7.7</td>\n",
       "      <td>NaN</td>\n",
       "      <td>82.86</td>\n",
       "      <td>NaN</td>\n",
       "      <td>NaN</td>\n",
       "      <td>NaN</td>\n",
       "      <td>NaN</td>\n",
       "      <td>NaN</td>\n",
       "      <td>2006.0</td>\n",
       "    </tr>\n",
       "    <tr>\n",
       "      <td>Super Mario Bros.</td>\n",
       "      <td>2</td>\n",
       "      <td>Platform</td>\n",
       "      <td>NaN</td>\n",
       "      <td>NES</td>\n",
       "      <td>Nintendo</td>\n",
       "      <td>Nintendo EAD</td>\n",
       "      <td>10.0</td>\n",
       "      <td>NaN</td>\n",
       "      <td>40.24</td>\n",
       "      <td>NaN</td>\n",
       "      <td>NaN</td>\n",
       "      <td>NaN</td>\n",
       "      <td>NaN</td>\n",
       "      <td>NaN</td>\n",
       "      <td>1985.0</td>\n",
       "    </tr>\n",
       "    <tr>\n",
       "      <td>Mario Kart Wii</td>\n",
       "      <td>3</td>\n",
       "      <td>Racing</td>\n",
       "      <td>E</td>\n",
       "      <td>Wii</td>\n",
       "      <td>Nintendo</td>\n",
       "      <td>Nintendo EAD</td>\n",
       "      <td>8.2</td>\n",
       "      <td>9.1</td>\n",
       "      <td>37.14</td>\n",
       "      <td>NaN</td>\n",
       "      <td>NaN</td>\n",
       "      <td>NaN</td>\n",
       "      <td>NaN</td>\n",
       "      <td>NaN</td>\n",
       "      <td>2008.0</td>\n",
       "    </tr>\n",
       "    <tr>\n",
       "      <td>PlayerUnknown's Battlegrounds</td>\n",
       "      <td>4</td>\n",
       "      <td>Shooter</td>\n",
       "      <td>NaN</td>\n",
       "      <td>PC</td>\n",
       "      <td>PUBG Corporation</td>\n",
       "      <td>PUBG Corporation</td>\n",
       "      <td>NaN</td>\n",
       "      <td>NaN</td>\n",
       "      <td>36.60</td>\n",
       "      <td>NaN</td>\n",
       "      <td>NaN</td>\n",
       "      <td>NaN</td>\n",
       "      <td>NaN</td>\n",
       "      <td>NaN</td>\n",
       "      <td>2017.0</td>\n",
       "    </tr>\n",
       "    <tr>\n",
       "      <td>Wii Sports Resort</td>\n",
       "      <td>5</td>\n",
       "      <td>Sports</td>\n",
       "      <td>E</td>\n",
       "      <td>Wii</td>\n",
       "      <td>Nintendo</td>\n",
       "      <td>Nintendo EAD</td>\n",
       "      <td>8.0</td>\n",
       "      <td>8.8</td>\n",
       "      <td>33.09</td>\n",
       "      <td>NaN</td>\n",
       "      <td>NaN</td>\n",
       "      <td>NaN</td>\n",
       "      <td>NaN</td>\n",
       "      <td>NaN</td>\n",
       "      <td>2009.0</td>\n",
       "    </tr>\n",
       "  </tbody>\n",
       "</table>\n",
       "</div>"
      ],
      "text/plain": [
       "                               Rank     Genre ESRB_Rating Platform  \\\n",
       "Name                                                                 \n",
       "Wii Sports                        1    Sports           E      Wii   \n",
       "Super Mario Bros.                 2  Platform         NaN      NES   \n",
       "Mario Kart Wii                    3    Racing           E      Wii   \n",
       "PlayerUnknown's Battlegrounds     4   Shooter         NaN       PC   \n",
       "Wii Sports Resort                 5    Sports           E      Wii   \n",
       "\n",
       "                                      Publisher         Developer  \\\n",
       "Name                                                                \n",
       "Wii Sports                             Nintendo      Nintendo EAD   \n",
       "Super Mario Bros.                      Nintendo      Nintendo EAD   \n",
       "Mario Kart Wii                         Nintendo      Nintendo EAD   \n",
       "PlayerUnknown's Battlegrounds  PUBG Corporation  PUBG Corporation   \n",
       "Wii Sports Resort                      Nintendo      Nintendo EAD   \n",
       "\n",
       "                               Critic_Score  User_Score  Total_Shipped  \\\n",
       "Name                                                                     \n",
       "Wii Sports                              7.7         NaN          82.86   \n",
       "Super Mario Bros.                      10.0         NaN          40.24   \n",
       "Mario Kart Wii                          8.2         9.1          37.14   \n",
       "PlayerUnknown's Battlegrounds           NaN         NaN          36.60   \n",
       "Wii Sports Resort                       8.0         8.8          33.09   \n",
       "\n",
       "                               Global_Sales  NA_Sales  PAL_Sales  JP_Sales  \\\n",
       "Name                                                                         \n",
       "Wii Sports                              NaN       NaN        NaN       NaN   \n",
       "Super Mario Bros.                       NaN       NaN        NaN       NaN   \n",
       "Mario Kart Wii                          NaN       NaN        NaN       NaN   \n",
       "PlayerUnknown's Battlegrounds           NaN       NaN        NaN       NaN   \n",
       "Wii Sports Resort                       NaN       NaN        NaN       NaN   \n",
       "\n",
       "                               Other_Sales    Year  \n",
       "Name                                                \n",
       "Wii Sports                             NaN  2006.0  \n",
       "Super Mario Bros.                      NaN  1985.0  \n",
       "Mario Kart Wii                         NaN  2008.0  \n",
       "PlayerUnknown's Battlegrounds          NaN  2017.0  \n",
       "Wii Sports Resort                      NaN  2009.0  "
      ]
     },
     "execution_count": 1,
     "metadata": {},
     "output_type": "execute_result"
    }
   ],
   "source": [
    "import numpy as np\n",
    "import pandas as pd\n",
    "df=pd.read_csv(\"data/vgsales-12-4-2019-short.csv\", index_col=1)\n",
    "df.head()"
   ]
  },
  {
   "cell_type": "code",
   "execution_count": 2,
   "metadata": {},
   "outputs": [
    {
     "name": "stdout",
     "output_type": "stream",
     "text": [
      "<class 'pandas.core.frame.DataFrame'>\n",
      "Index: 55792 entries, Wii Sports to Falcon Age\n",
      "Data columns (total 15 columns):\n",
      "Rank             55792 non-null int64\n",
      "Genre            55792 non-null object\n",
      "ESRB_Rating      23623 non-null object\n",
      "Platform         55792 non-null object\n",
      "Publisher        55792 non-null object\n",
      "Developer        55775 non-null object\n",
      "Critic_Score     6536 non-null float64\n",
      "User_Score       335 non-null float64\n",
      "Total_Shipped    1827 non-null float64\n",
      "Global_Sales     19415 non-null float64\n",
      "NA_Sales         12964 non-null float64\n",
      "PAL_Sales        13189 non-null float64\n",
      "JP_Sales         7043 non-null float64\n",
      "Other_Sales      15522 non-null float64\n",
      "Year             54813 non-null float64\n",
      "dtypes: float64(9), int64(1), object(5)\n",
      "memory usage: 6.8+ MB\n"
     ]
    }
   ],
   "source": [
    "df.info()"
   ]
  },
  {
   "cell_type": "code",
   "execution_count": 3,
   "metadata": {},
   "outputs": [
    {
     "data": {
      "text/plain": [
       "(55792, 15)"
      ]
     },
     "execution_count": 3,
     "metadata": {},
     "output_type": "execute_result"
    }
   ],
   "source": [
    "df.shape"
   ]
  },
  {
   "cell_type": "code",
   "execution_count": 4,
   "metadata": {},
   "outputs": [
    {
     "data": {
      "text/plain": [
       "Index(['rank', 'genre', 'esrb_rating', 'platform', 'publisher', 'developer',\n",
       "       'critic_score', 'user_score', 'total_shipped', 'global_sales',\n",
       "       'na_sales', 'pal_sales', 'jp_sales', 'other_sales', 'year'],\n",
       "      dtype='object')"
      ]
     },
     "execution_count": 4,
     "metadata": {},
     "output_type": "execute_result"
    }
   ],
   "source": [
    "df.columns=[col.lower() for col in df]\n",
    "df.columns"
   ]
  },
  {
   "cell_type": "code",
   "execution_count": 5,
   "metadata": {},
   "outputs": [
    {
     "data": {
      "text/plain": [
       "Index(['rank', 'genre', 'platform', 'publisher', 'developer', 'user_score',\n",
       "       'total_shipped', 'global_sales'],\n",
       "      dtype='object')"
      ]
     },
     "execution_count": 5,
     "metadata": {},
     "output_type": "execute_result"
    }
   ],
   "source": [
    "df.drop([\"esrb_rating\", \"critic_score\", \"na_sales\", \"pal_sales\", \"jp_sales\", \"other_sales\", \"year\"], axis=1, inplace=True)\n",
    "df.columns"
   ]
  },
  {
   "cell_type": "code",
   "execution_count": 6,
   "metadata": {},
   "outputs": [
    {
     "data": {
      "text/plain": [
       "rank                 0\n",
       "genre                0\n",
       "platform             0\n",
       "publisher            0\n",
       "developer           17\n",
       "user_score       55457\n",
       "total_shipped    53965\n",
       "global_sales     36377\n",
       "dtype: int64"
      ]
     },
     "execution_count": 6,
     "metadata": {},
     "output_type": "execute_result"
    }
   ],
   "source": [
    "df.isnull().sum()"
   ]
  },
  {
   "cell_type": "code",
   "execution_count": 7,
   "metadata": {},
   "outputs": [
    {
     "data": {
      "text/plain": [
       "Name\n",
       "Wii Sports                       NaN\n",
       "Super Mario Bros.                NaN\n",
       "Mario Kart Wii                   9.1\n",
       "PlayerUnknown's Battlegrounds    NaN\n",
       "Wii Sports Resort                8.8\n",
       "Name: user_score, dtype: float64"
      ]
     },
     "execution_count": 7,
     "metadata": {},
     "output_type": "execute_result"
    }
   ],
   "source": [
    "score=df[\"user_score\"]\n",
    "score.head()"
   ]
  },
  {
   "cell_type": "code",
   "execution_count": 8,
   "metadata": {},
   "outputs": [
    {
     "data": {
      "text/plain": [
       "8.253432835820895"
      ]
     },
     "execution_count": 8,
     "metadata": {},
     "output_type": "execute_result"
    }
   ],
   "source": [
    "score_mean=score.mean()\n",
    "score_mean"
   ]
  },
  {
   "cell_type": "code",
   "execution_count": 9,
   "metadata": {},
   "outputs": [],
   "source": [
    "score.fillna(score_mean, inplace=True)"
   ]
  },
  {
   "cell_type": "code",
   "execution_count": 10,
   "metadata": {},
   "outputs": [
    {
     "data": {
      "text/plain": [
       "rank                 0\n",
       "genre                0\n",
       "platform             0\n",
       "publisher            0\n",
       "developer           17\n",
       "user_score           0\n",
       "total_shipped    53965\n",
       "global_sales     36377\n",
       "dtype: int64"
      ]
     },
     "execution_count": 10,
     "metadata": {},
     "output_type": "execute_result"
    }
   ],
   "source": [
    "df.isnull().sum()"
   ]
  },
  {
   "cell_type": "code",
   "execution_count": 11,
   "metadata": {},
   "outputs": [
    {
     "data": {
      "text/plain": [
       "rank                 0\n",
       "genre                0\n",
       "platform             0\n",
       "publisher            0\n",
       "developer           17\n",
       "user_score           0\n",
       "total_shipped        0\n",
       "global_sales     36377\n",
       "dtype: int64"
      ]
     },
     "execution_count": 11,
     "metadata": {},
     "output_type": "execute_result"
    }
   ],
   "source": [
    "tot_ship=df[\"total_shipped\"]\n",
    "tot_ship_mean=tot_ship.mean()\n",
    "tot_ship.fillna(\"tot_ship_mean\", inplace=True)\n",
    "df.isnull().sum()"
   ]
  },
  {
   "cell_type": "code",
   "execution_count": 13,
   "metadata": {},
   "outputs": [
    {
     "data": {
      "text/plain": [
       "rank              0\n",
       "genre             0\n",
       "platform          0\n",
       "publisher         0\n",
       "developer        17\n",
       "user_score        0\n",
       "total_shipped     0\n",
       "global_sales      0\n",
       "dtype: int64"
      ]
     },
     "execution_count": 13,
     "metadata": {},
     "output_type": "execute_result"
    }
   ],
   "source": [
    "sales=df[\"global_sales\"]\n",
    "sales_mean=sales.mean()\n",
    "sales.fillna(\"sales_mean\", inplace=True)\n",
    "df.isnull().sum()"
   ]
  },
  {
   "cell_type": "code",
   "execution_count": 14,
   "metadata": {},
   "outputs": [
    {
     "data": {
      "text/plain": [
       "(17, 8)"
      ]
     },
     "execution_count": 14,
     "metadata": {},
     "output_type": "execute_result"
    }
   ],
   "source": [
    "null_data = df[df.isnull().any(axis=1)]\n",
    "null_data.shape"
   ]
  },
  {
   "cell_type": "code",
   "execution_count": 15,
   "metadata": {},
   "outputs": [],
   "source": [
    "df.dropna(inplace=True)"
   ]
  },
  {
   "cell_type": "code",
   "execution_count": 16,
   "metadata": {},
   "outputs": [
    {
     "data": {
      "text/plain": [
       "(55775, 8)"
      ]
     },
     "execution_count": 16,
     "metadata": {},
     "output_type": "execute_result"
    }
   ],
   "source": [
    "df.shape"
   ]
  },
  {
   "cell_type": "code",
   "execution_count": 17,
   "metadata": {},
   "outputs": [
    {
     "name": "stdout",
     "output_type": "stream",
     "text": [
      "<class 'pandas.core.frame.DataFrame'>\n",
      "Index: 55775 entries, Wii Sports to Falcon Age\n",
      "Data columns (total 8 columns):\n",
      "rank             55775 non-null int64\n",
      "genre            55775 non-null object\n",
      "platform         55775 non-null object\n",
      "publisher        55775 non-null object\n",
      "developer        55775 non-null object\n",
      "user_score       55775 non-null float64\n",
      "total_shipped    55775 non-null object\n",
      "global_sales     55775 non-null object\n",
      "dtypes: float64(1), int64(1), object(6)\n",
      "memory usage: 3.8+ MB\n"
     ]
    }
   ],
   "source": [
    "df.info()"
   ]
  },
  {
   "cell_type": "code",
   "execution_count": 18,
   "metadata": {},
   "outputs": [
    {
     "data": {
      "text/html": [
       "<div>\n",
       "<style scoped>\n",
       "    .dataframe tbody tr th:only-of-type {\n",
       "        vertical-align: middle;\n",
       "    }\n",
       "\n",
       "    .dataframe tbody tr th {\n",
       "        vertical-align: top;\n",
       "    }\n",
       "\n",
       "    .dataframe thead th {\n",
       "        text-align: right;\n",
       "    }\n",
       "</style>\n",
       "<table border=\"1\" class=\"dataframe\">\n",
       "  <thead>\n",
       "    <tr style=\"text-align: right;\">\n",
       "      <th></th>\n",
       "      <th>rank</th>\n",
       "      <th>genre</th>\n",
       "      <th>platform</th>\n",
       "      <th>publisher</th>\n",
       "      <th>developer</th>\n",
       "      <th>user_score</th>\n",
       "      <th>total_shipped</th>\n",
       "      <th>global_sales</th>\n",
       "    </tr>\n",
       "    <tr>\n",
       "      <th>Name</th>\n",
       "      <th></th>\n",
       "      <th></th>\n",
       "      <th></th>\n",
       "      <th></th>\n",
       "      <th></th>\n",
       "      <th></th>\n",
       "      <th></th>\n",
       "      <th></th>\n",
       "    </tr>\n",
       "  </thead>\n",
       "  <tbody>\n",
       "    <tr>\n",
       "      <td>Wii Sports</td>\n",
       "      <td>1</td>\n",
       "      <td>Sports</td>\n",
       "      <td>Wii</td>\n",
       "      <td>Nintendo</td>\n",
       "      <td>Nintendo EAD</td>\n",
       "      <td>8.253433</td>\n",
       "      <td>82.86</td>\n",
       "      <td>sales_mean</td>\n",
       "    </tr>\n",
       "    <tr>\n",
       "      <td>Super Mario Bros.</td>\n",
       "      <td>2</td>\n",
       "      <td>Platform</td>\n",
       "      <td>NES</td>\n",
       "      <td>Nintendo</td>\n",
       "      <td>Nintendo EAD</td>\n",
       "      <td>8.253433</td>\n",
       "      <td>40.24</td>\n",
       "      <td>sales_mean</td>\n",
       "    </tr>\n",
       "    <tr>\n",
       "      <td>Mario Kart Wii</td>\n",
       "      <td>3</td>\n",
       "      <td>Racing</td>\n",
       "      <td>Wii</td>\n",
       "      <td>Nintendo</td>\n",
       "      <td>Nintendo EAD</td>\n",
       "      <td>9.100000</td>\n",
       "      <td>37.14</td>\n",
       "      <td>sales_mean</td>\n",
       "    </tr>\n",
       "    <tr>\n",
       "      <td>PlayerUnknown's Battlegrounds</td>\n",
       "      <td>4</td>\n",
       "      <td>Shooter</td>\n",
       "      <td>PC</td>\n",
       "      <td>PUBG Corporation</td>\n",
       "      <td>PUBG Corporation</td>\n",
       "      <td>8.253433</td>\n",
       "      <td>36.6</td>\n",
       "      <td>sales_mean</td>\n",
       "    </tr>\n",
       "    <tr>\n",
       "      <td>Wii Sports Resort</td>\n",
       "      <td>5</td>\n",
       "      <td>Sports</td>\n",
       "      <td>Wii</td>\n",
       "      <td>Nintendo</td>\n",
       "      <td>Nintendo EAD</td>\n",
       "      <td>8.800000</td>\n",
       "      <td>33.09</td>\n",
       "      <td>sales_mean</td>\n",
       "    </tr>\n",
       "  </tbody>\n",
       "</table>\n",
       "</div>"
      ],
      "text/plain": [
       "                               rank     genre platform         publisher  \\\n",
       "Name                                                                       \n",
       "Wii Sports                        1    Sports      Wii          Nintendo   \n",
       "Super Mario Bros.                 2  Platform      NES          Nintendo   \n",
       "Mario Kart Wii                    3    Racing      Wii          Nintendo   \n",
       "PlayerUnknown's Battlegrounds     4   Shooter       PC  PUBG Corporation   \n",
       "Wii Sports Resort                 5    Sports      Wii          Nintendo   \n",
       "\n",
       "                                      developer  user_score total_shipped  \\\n",
       "Name                                                                        \n",
       "Wii Sports                         Nintendo EAD    8.253433         82.86   \n",
       "Super Mario Bros.                  Nintendo EAD    8.253433         40.24   \n",
       "Mario Kart Wii                     Nintendo EAD    9.100000         37.14   \n",
       "PlayerUnknown's Battlegrounds  PUBG Corporation    8.253433          36.6   \n",
       "Wii Sports Resort                  Nintendo EAD    8.800000         33.09   \n",
       "\n",
       "                              global_sales  \n",
       "Name                                        \n",
       "Wii Sports                      sales_mean  \n",
       "Super Mario Bros.               sales_mean  \n",
       "Mario Kart Wii                  sales_mean  \n",
       "PlayerUnknown's Battlegrounds   sales_mean  \n",
       "Wii Sports Resort               sales_mean  "
      ]
     },
     "execution_count": 18,
     "metadata": {},
     "output_type": "execute_result"
    }
   ],
   "source": [
    "df.head()"
   ]
  },
  {
   "cell_type": "code",
   "execution_count": 19,
   "metadata": {},
   "outputs": [
    {
     "data": {
      "text/html": [
       "<div>\n",
       "<style scoped>\n",
       "    .dataframe tbody tr th:only-of-type {\n",
       "        vertical-align: middle;\n",
       "    }\n",
       "\n",
       "    .dataframe tbody tr th {\n",
       "        vertical-align: top;\n",
       "    }\n",
       "\n",
       "    .dataframe thead th {\n",
       "        text-align: right;\n",
       "    }\n",
       "</style>\n",
       "<table border=\"1\" class=\"dataframe\">\n",
       "  <thead>\n",
       "    <tr style=\"text-align: right;\">\n",
       "      <th></th>\n",
       "      <th>rank</th>\n",
       "      <th>user_score</th>\n",
       "    </tr>\n",
       "  </thead>\n",
       "  <tbody>\n",
       "    <tr>\n",
       "      <td>count</td>\n",
       "      <td>55775.000000</td>\n",
       "      <td>55775.000000</td>\n",
       "    </tr>\n",
       "    <tr>\n",
       "      <td>mean</td>\n",
       "      <td>27894.619561</td>\n",
       "      <td>8.253433</td>\n",
       "    </tr>\n",
       "    <tr>\n",
       "      <td>std</td>\n",
       "      <td>16106.212443</td>\n",
       "      <td>0.108454</td>\n",
       "    </tr>\n",
       "    <tr>\n",
       "      <td>min</td>\n",
       "      <td>1.000000</td>\n",
       "      <td>2.000000</td>\n",
       "    </tr>\n",
       "    <tr>\n",
       "      <td>25%</td>\n",
       "      <td>13946.500000</td>\n",
       "      <td>8.253433</td>\n",
       "    </tr>\n",
       "    <tr>\n",
       "      <td>50%</td>\n",
       "      <td>27894.000000</td>\n",
       "      <td>8.253433</td>\n",
       "    </tr>\n",
       "    <tr>\n",
       "      <td>75%</td>\n",
       "      <td>41842.500000</td>\n",
       "      <td>8.253433</td>\n",
       "    </tr>\n",
       "    <tr>\n",
       "      <td>max</td>\n",
       "      <td>55792.000000</td>\n",
       "      <td>10.000000</td>\n",
       "    </tr>\n",
       "  </tbody>\n",
       "</table>\n",
       "</div>"
      ],
      "text/plain": [
       "               rank    user_score\n",
       "count  55775.000000  55775.000000\n",
       "mean   27894.619561      8.253433\n",
       "std    16106.212443      0.108454\n",
       "min        1.000000      2.000000\n",
       "25%    13946.500000      8.253433\n",
       "50%    27894.000000      8.253433\n",
       "75%    41842.500000      8.253433\n",
       "max    55792.000000     10.000000"
      ]
     },
     "execution_count": 19,
     "metadata": {},
     "output_type": "execute_result"
    }
   ],
   "source": [
    "df.describe()"
   ]
  },
  {
   "cell_type": "code",
   "execution_count": 20,
   "metadata": {},
   "outputs": [
    {
     "data": {
      "text/html": [
       "<div>\n",
       "<style scoped>\n",
       "    .dataframe tbody tr th:only-of-type {\n",
       "        vertical-align: middle;\n",
       "    }\n",
       "\n",
       "    .dataframe tbody tr th {\n",
       "        vertical-align: top;\n",
       "    }\n",
       "\n",
       "    .dataframe thead th {\n",
       "        text-align: right;\n",
       "    }\n",
       "</style>\n",
       "<table border=\"1\" class=\"dataframe\">\n",
       "  <thead>\n",
       "    <tr style=\"text-align: right;\">\n",
       "      <th></th>\n",
       "      <th>rank</th>\n",
       "      <th>user_score</th>\n",
       "    </tr>\n",
       "  </thead>\n",
       "  <tbody>\n",
       "    <tr>\n",
       "      <td>rank</td>\n",
       "      <td>1.000000</td>\n",
       "      <td>-0.030014</td>\n",
       "    </tr>\n",
       "    <tr>\n",
       "      <td>user_score</td>\n",
       "      <td>-0.030014</td>\n",
       "      <td>1.000000</td>\n",
       "    </tr>\n",
       "  </tbody>\n",
       "</table>\n",
       "</div>"
      ],
      "text/plain": [
       "                rank  user_score\n",
       "rank        1.000000   -0.030014\n",
       "user_score -0.030014    1.000000"
      ]
     },
     "execution_count": 20,
     "metadata": {},
     "output_type": "execute_result"
    }
   ],
   "source": [
    "df.corr()"
   ]
  },
  {
   "cell_type": "code",
   "execution_count": null,
   "metadata": {},
   "outputs": [],
   "source": [
    "df.to_csv('data/cleaned_vgsales-12-4-2019-short.csv')"
   ]
  }
 ],
 "metadata": {
  "kernelspec": {
   "display_name": "Python 3",
   "language": "python",
   "name": "python3"
  },
  "language_info": {
   "codemirror_mode": {
    "name": "ipython",
    "version": 3
   },
   "file_extension": ".py",
   "mimetype": "text/x-python",
   "name": "python",
   "nbconvert_exporter": "python",
   "pygments_lexer": "ipython3",
   "version": "3.7.4"
  }
 },
 "nbformat": 4,
 "nbformat_minor": 2
}
